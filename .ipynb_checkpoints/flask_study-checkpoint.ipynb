{
 "cells": [
  {
   "cell_type": "code",
   "execution_count": 1,
   "metadata": {},
   "outputs": [],
   "source": []
  },
  {
   "cell_type": "code",
   "execution_count": null,
   "metadata": {},
   "outputs": [
    {
     "name": "stdout",
     "output_type": "stream",
     "text": [
      " * Serving Flask app \"__main__\" (lazy loading)\n",
      " * Environment: production\n",
      "   WARNING: Do not use the development server in a production environment.\n",
      "   Use a production WSGI server instead.\n",
      " * Debug mode: off\n"
     ]
    },
    {
     "name": "stderr",
     "output_type": "stream",
     "text": [
      " * Running on http://127.0.0.1:5000/ (Press CTRL+C to quit)\n",
      "127.0.0.1 - - [16/Feb/2019 17:41:32] \"\u001b[37mGET / HTTP/1.1\u001b[0m\" 200 -\n",
      "127.0.0.1 - - [16/Feb/2019 17:41:38] \"\u001b[37mPOST /result HTTP/1.1\u001b[0m\" 200 -\n"
     ]
    }
   ],
   "source": [
    "from flask import Flask, render_template, request\n",
    "app = Flask(__name__)\n",
    "\n",
    "@app.route('/')\n",
    "def student():\n",
    "   return render_template('student.html')\n",
    "\n",
    "@app.route('/result',methods = ['POST', 'GET'])\n",
    "def result():\n",
    "   if request.method == 'POST':\n",
    "      result = request.form\n",
    "      return render_template(\"result.html\",result = result)\n",
    "\n",
    "if __name__ == '__main__':\n",
    "   app.run()"
   ]
  },
  {
   "cell_type": "code",
   "execution_count": 4,
   "metadata": {},
   "outputs": [
    {
     "name": "stderr",
     "output_type": "stream",
     "text": [
      "D:\\Softwares\\Anaconda3\\lib\\site-packages\\ipykernel_launcher.py:7: DeprecationWarning: Required is going away in WTForms 3.0, use DataRequired\n",
      "  import sys\n",
      "D:\\Softwares\\Anaconda3\\lib\\site-packages\\ipykernel_launcher.py:11: DeprecationWarning: Required is going away in WTForms 3.0, use DataRequired\n",
      "  # This is added back by InteractiveShellApp.init_path()\n"
     ]
    }
   ],
   "source": [
    "from flask_wtf import Form\n",
    "from wtforms import TextField, IntegerField, TextAreaField, SubmitField, RadioField,SelectField\n",
    "\n",
    "from wtforms import validators, ValidationError\n",
    "\n",
    "class ContactForm(Form):\n",
    "   name = TextField(\"Name Of Student\",[validators.Required(\"Please enter your name.\")])\n",
    "   Gender = RadioField('Gender', choices = [('M','Male'),('F','Female')])\n",
    "   Address = TextAreaField(\"Address\")\n",
    "   \n",
    "   email = TextField(\"Email\",[validators.Required(\"Please enter your email address.\"),validators.Email(\"Please enter your email address.\")])\n",
    "   \n",
    "   Age = IntegerField(\"age\")\n",
    "   language = SelectField('Languages', choices = [('cpp', 'C++'), \n",
    "      ('py', 'Python')])\n",
    "   submit = SubmitField(\"Send\")"
   ]
  },
  {
   "cell_type": "code",
   "execution_count": null,
   "metadata": {},
   "outputs": [
    {
     "name": "stdout",
     "output_type": "stream",
     "text": [
      " * Serving Flask app \"__main__\" (lazy loading)\n",
      " * Environment: production\n",
      "   WARNING: Do not use the development server in a production environment.\n",
      "   Use a production WSGI server instead.\n",
      " * Debug mode: off\n"
     ]
    },
    {
     "name": "stderr",
     "output_type": "stream",
     "text": [
      " * Running on http://127.0.0.1:5000/ (Press CTRL+C to quit)\n",
      "127.0.0.1 - - [16/Feb/2019 18:34:49] \"\u001b[33mGET / HTTP/1.1\u001b[0m\" 404 -\n",
      "D:\\Softwares\\Anaconda3\\lib\\site-packages\\ipykernel_launcher.py:8: FlaskWTFDeprecationWarning: \"flask_wtf.Form\" has been renamed to \"FlaskForm\" and will be removed in 1.0.\n",
      "  \n",
      "127.0.0.1 - - [16/Feb/2019 18:34:55] \"\u001b[37mGET /contact HTTP/1.1\u001b[0m\" 200 -\n",
      "D:\\Softwares\\Anaconda3\\lib\\site-packages\\ipykernel_launcher.py:8: FlaskWTFDeprecationWarning: \"flask_wtf.Form\" has been renamed to \"FlaskForm\" and will be removed in 1.0.\n",
      "  \n",
      "127.0.0.1 - - [16/Feb/2019 18:35:12] \"\u001b[37mPOST /contact HTTP/1.1\u001b[0m\" 200 -\n"
     ]
    }
   ],
   "source": [
    "from flask import Flask, render_template, request, flash\n",
    "from flask_wtf import Form\n",
    "app = Flask(__name__)\n",
    "app.secret_key = 'development key'\n",
    "\n",
    "@app.route('/contact', methods = ['GET', 'POST'])\n",
    "def contact():\n",
    "    form = ContactForm()\n",
    "   \n",
    "    if request.method == 'POST':\n",
    "        if form.validate() == False:\n",
    "            flash('All fields are required.')\n",
    "            return render_template('contact.html', form = form)\n",
    "        else:\n",
    "            return render_template('success.html')\n",
    "    elif request.method == 'GET':\n",
    "        return render_template('contact.html', form = form)\n",
    "\n",
    "\n",
    "\n",
    "if __name__ == '__main__':\n",
    "   app.run()"
   ]
  },
  {
   "cell_type": "code",
   "execution_count": null,
   "metadata": {},
   "outputs": [],
   "source": []
  }
 ],
 "metadata": {
  "kernelspec": {
   "display_name": "Python 3",
   "language": "python",
   "name": "python3"
  },
  "language_info": {
   "codemirror_mode": {
    "name": "ipython",
    "version": 3
   },
   "file_extension": ".py",
   "mimetype": "text/x-python",
   "name": "python",
   "nbconvert_exporter": "python",
   "pygments_lexer": "ipython3",
   "version": "3.6.8"
  }
 },
 "nbformat": 4,
 "nbformat_minor": 2
}
