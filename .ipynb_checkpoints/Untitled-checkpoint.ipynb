{
 "cells": [
  {
   "cell_type": "code",
   "execution_count": 3,
   "metadata": {},
   "outputs": [
    {
     "name": "stdout",
     "output_type": "stream",
     "text": [
      "An error was found, but returning just with the version: No module named 'fcntl'\n"
     ]
    }
   ],
   "source": [
    "import sys\n",
    "from html.parser import HTMLParser\n",
    "from bs4 import BeautifulSoup, SoupStrainer\n",
    "import requests\n",
    "import inquirer"
   ]
  },
  {
   "cell_type": "code",
   "execution_count": 1,
   "metadata": {},
   "outputs": [],
   "source": [
    "def gethref ( ticker,article ):\n",
    "    \"Finds the href for the selected article title string\"\n",
    "    turl = \"http://seekingalpha.com/symbol/%s/earnings/transcripts\" % (ticker)\n",
    "    tres = requests.get(turl, headers=headers, proxies={'http':'64.192.234.98:53281'})\n",
    "    tsoup = BeautifulSoup(tres.text, 'html.parser', parse_only=only_transcripts)\n",
    "    href = \"\"\n",
    "    for t in tsoup:\n",
    "        if t.string == article:\n",
    "            href=t['href']\n",
    "            return href;"
   ]
  },
  {
   "cell_type": "code",
   "execution_count": 2,
   "metadata": {},
   "outputs": [],
   "source": [
    "headers = {\n",
    "    'User-Agent': 'Chrome/72.0.3626.109'\n",
    "}"
   ]
  },
  {
   "cell_type": "code",
   "execution_count": 4,
   "metadata": {},
   "outputs": [],
   "source": [
    "only_transcripts = SoupStrainer(sasource=\"qp_transcripts\")"
   ]
  },
  {
   "cell_type": "code",
   "execution_count": 20,
   "metadata": {},
   "outputs": [],
   "source": [
    "def gettranscripts ( ticker ):\n",
    "    \"Gets a list of available transcripts for a valid stock ticker\"\n",
    "    turl = \"http://seekingalpha.com/symbol/%s/earnings/transcripts\" % (ticker)\n",
    "    tres = requests.get(turl, headers=headers, proxies={'http':'64.192.234.98:53281'})\n",
    "    tsoup = BeautifulSoup(tres.text, 'html.parser', parse_only=only_transcripts)\n",
    "    picklist = []\n",
    "    for t in tsoup:\n",
    "        picklist.append(t.string)\n",
    "    return picklist;"
   ]
  },
  {
   "cell_type": "code",
   "execution_count": 5,
   "metadata": {},
   "outputs": [],
   "source": [
    "import urllib.request, sys\n",
    "from bs4 import BeautifulSoup\n",
    "import re\n",
    "from collections import Counter\n",
    "import time\n",
    "import csv\n",
    "import pandas as pd\n",
    "from urllib.request import HTTPError"
   ]
  },
  {
   "cell_type": "code",
   "execution_count": 23,
   "metadata": {},
   "outputs": [],
   "source": [
    "def getSomeResponse():\n",
    "    \n",
    "    try:\n",
    "        url = \"http://seekingalpha.com/news/3433960-trinet-group-plus-20-percent-post-earnings-beat-stock-repurchase-program-increased\"\n",
    "        header = {'User-Agent':'Mozilla/5.0 (Windows NT 10.0; Win64; x64) AppleWebKit/537.36 (KHTML, like Gecko) Chrome/72.0.3626.109 Safari/537.36'}\n",
    "        req = urllib.request.Request(url, headers = header)\n",
    "        #req.set_proxy('[2a04:4e42:400::514]:443', 'http')\n",
    "        #time.sleep(3)\n",
    "        resp = urllib.request.urlopen(req)\n",
    "        respData = resp.read()\n",
    "\n",
    "        saveFile = open('withHeaders.txt', 'w')\n",
    "        saveFile = write(str(respData))\n",
    "        saveFile.close()\n",
    "    \n",
    "    except Exception as e:\n",
    "        print(str(e))"
   ]
  },
  {
   "cell_type": "code",
   "execution_count": 24,
   "metadata": {},
   "outputs": [
    {
     "name": "stdout",
     "output_type": "stream",
     "text": [
      "[WinError 10054] An existing connection was forcibly closed by the remote host\n"
     ]
    }
   ],
   "source": [
    "getSomeResponse()"
   ]
  },
  {
   "cell_type": "code",
   "execution_count": 16,
   "metadata": {},
   "outputs": [],
   "source": [
    "import requests"
   ]
  },
  {
   "cell_type": "code",
   "execution_count": 17,
   "metadata": {},
   "outputs": [],
   "source": [
    "def getSomeValue():\n",
    "    try:\n",
    "        url = \"http://seekingalpha.com/news/3433960-trinet-group-plus-20-percent-post-earnings-beat-stock-repurchase-program-increased\"\n",
    "        header = {'User-Agent':'Mozilla/5.0 (Windows NT 10.0; Win64; x64) AppleWebKit/537.36 (KHTML, like Gecko) Chrome/72.0.3626.109 Safari/537.36'}\n",
    "        resp = requests.get(url, headers = header)\n",
    "        [2a04:4e42:400::514]:443\n",
    "        soup = BeautifulSoup(response.text, 'html.parser')\n",
    "        \n",
    "        saveFile = open('withHeaders.txt', 'w')\n",
    "        saveFile = write(str(resp))\n",
    "        saveFile.close()\n",
    "    \n",
    "    except Exception as e:\n",
    "        print(str(e))"
   ]
  },
  {
   "cell_type": "code",
   "execution_count": 18,
   "metadata": {},
   "outputs": [
    {
     "name": "stdout",
     "output_type": "stream",
     "text": [
      "('Connection aborted.', ConnectionResetError(10054, 'An existing connection was forcibly closed by the remote host', None, 10054, None))\n"
     ]
    }
   ],
   "source": [
    "getSomeValue()"
   ]
  }
 ],
 "metadata": {
  "kernelspec": {
   "display_name": "Python 3",
   "language": "python",
   "name": "python3"
  },
  "language_info": {
   "codemirror_mode": {
    "name": "ipython",
    "version": 3
   },
   "file_extension": ".py",
   "mimetype": "text/x-python",
   "name": "python",
   "nbconvert_exporter": "python",
   "pygments_lexer": "ipython3",
   "version": "3.6.8"
  }
 },
 "nbformat": 4,
 "nbformat_minor": 2
}
