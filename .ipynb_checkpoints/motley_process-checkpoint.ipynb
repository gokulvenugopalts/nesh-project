{
 "cells": [
  {
   "cell_type": "code",
   "execution_count": 2,
   "metadata": {},
   "outputs": [],
   "source": [
    "import requests\n",
    "import os\n",
    "from bs4 import BeautifulSoup\n",
    "from flask import Flask, redirect, url_for, request,  render_template, jsonify, g\n",
    "from flask_sijax import sijax\n",
    "import requests\n",
    "from bs4 import BeautifulSoup, SoupStrainer\n",
    "import json"
   ]
  },
  {
   "cell_type": "code",
   "execution_count": 4,
   "metadata": {},
   "outputs": [
    {
     "name": "stdout",
     "output_type": "stream",
     "text": [
      "{'articles': {'article0': {'href': 'https://www.fool.com/earnings/call-transcripts/2019/02/13/occidental-petroleum-corp-oxy-q4-2018-earnings-con.aspx', 'text': '  Occidental Petroleum Corp (OXY) Q4 2018 Earnings Conference Call Transcript\\n\\t            ', 'promo': 'OXY earnings call for the period ending December 31, 2018.'}, 'article1': {'href': 'https://www.fool.com/investing/2019/01/08/this-oil-stock-is-planning-to-prosper-in-2019-no-m.aspx', 'text': '  This Oil Stock Is Planning to Prosper in 2019 No Matter What Happens With Oil Prices\\n\\t            ', 'promo': 'After achieving its low-oil-price break-even plan, Occidental Petroleum has tremendous flexibilit...'}, 'article2': {'href': 'https://www.fool.com/investing/2019/01/06/my-no-1-oil-stock-for-2019.aspx', 'text': '  My No. 1 Oil Stock for 2019\\n\\t            ', 'promo': 'This oil company is poised to prosper in the new year.'}, 'article3': {'href': 'https://www.fool.com/investing/2018/12/28/5-top-energy-stocks-to-buy-in-2019.aspx', 'text': '  5 Top Energy Stocks to Buy in 2019\\n\\t            ', 'promo': \"Demand for fuel and electricity isn't going anywhere in the new year. Here are the top stock pick...\"}, 'article4': {'href': 'https://www.fool.com/investing/2018/12/27/5-top-oil-stocks-to-buy-in-2019.aspx', 'text': '  5 Top Oil Stocks to Buy in 2019\\n\\t            ', 'promo': 'Drilling down into the oil stocks best positioned to prosper in 2019.'}, 'article5': {'href': 'https://www.fool.com/investing/2018/11/15/3-top-oil-stocks-to-buy-in-november.aspx', 'text': '  3 Top Oil Stocks to Buy in November\\n\\t            ', 'promo': 'Oil prices have begun to fall, but these stocks still look ripe to outperform over the long haul.'}, 'article6': {'href': 'https://www.fool.com/earnings/call-transcripts/2018/11/06/occidental-petroleum-corporation-oxy-q3-2018-earni.aspx', 'text': '  Occidental Petroleum Corporation (OXY) Q3 2018 Earnings Conference Call Transcript\\n\\t            ', 'promo': 'OXY earnings call for the period ending  September 30, 2018.'}, 'article7': {'href': 'https://www.fool.com/investing/2018/11/05/why-occidental-petroleum-corporation-plummeted-nea.aspx', 'text': '  Why Occidental Petroleum Corporation Plummeted Nearly 20% in October\\n\\t            ', 'promo': 'A double dose of bad news weighed on the oil company last month.'}, 'article8': {'href': 'https://www.fool.com/investing/2018/10/15/why-occidental-petroleum-nutrisystem-and-carvana-s.aspx', 'text': '  Why Occidental Petroleum, Nutrisystem, and Carvana Slumped Today\\n\\t            ', 'promo': 'Find out which of these stocks suffered the worst news.'}, 'article9': {'href': 'https://www.fool.com/investing/2018/09/27/these-3-oil-companies-think-their-stocks-are-great.aspx', 'text': '  These 3 Oil Companies Think Their Stocks Are Great Buys Right Now\\n\\t            ', 'promo': 'More oil companies are using their oil-fueled cash flows to buy back their cheap stock.'}}}\n"
     ]
    }
   ],
   "source": [
    "\n",
    "only_articles = SoupStrainer('article')\n",
    "header = {'User-Agent':'Mozilla/5.0 (Windows NT 10.0; Win64; x64) AppleWebKit/537.36 (KHTML, like Gecko) Chrome/72.0.3626.109 Safari/537.36'}\n",
    "#resp = requests.get(\"https://www.fool.com/quote/oxy\", headers = header).text\n",
    "resp = requests.get(\"https://www.fool.com/quote/nyse/occidental-petroleum/oxy/content\", headers = header)\n",
    "resp = resp.text\n",
    "article_list = BeautifulSoup(resp, 'html.parser', parse_only = only_articles)\n",
    "#print(article_list)\n",
    "menu_article_dict = {}\n",
    "menu_dict = {}\n",
    "picklist = []\n",
    "i = 0;\n",
    "for t,i in zip(article_list,range(10)):\n",
    "    #print(t)\n",
    "    article_dict = {}\n",
    "    for anchor in t.select('a.article-link'):\n",
    "        if anchor.has_attr('href'):\n",
    "            article_dict.update({'href':anchor['href']})#['href'] = anchor['href']\n",
    "            article_dict['text'] = anchor.contents[0]\n",
    "            #print(\"value: %s\" % anchor['href'])\n",
    "            #print(\"Text: %s\" % anchor.contents[0])\n",
    "    for anchor in t.select('p.article-promo'):\n",
    "        article_dict['promo'] = anchor.contents[0]\n",
    "        #print(\"promo: %s\" % anchor.contents[0])\n",
    "    menu_article_dict.update({'article'+str(i):article_dict})\n",
    "    #print(article_dict)\n",
    "    #print(\"^^^^^^^^^^^^^^^^^^^^^^^^^^^^\")\n",
    "    #print(menu_dict)\n",
    "    #print(len(menu_dict))\n",
    "   # print(\"************************\")\n",
    "\n",
    "#print(menu_article_dict)\n",
    "if(len(menu_article_dict)>0):\n",
    "    menu_dict['articles'] = menu_article_dict\n",
    "\n",
    "print(menu_dict)"
   ]
  },
  {
   "cell_type": "code",
   "execution_count": 11,
   "metadata": {},
   "outputs": [],
   "source": [
    "def search_company_articles(site_url, menu_dict):\n",
    "    only_articles = SoupStrainer('article')\n",
    "    header = {'User-Agent':'Mozilla/5.0 (Windows NT 10.0; Win64; x64) AppleWebKit/537.36 (KHTML, like Gecko) Chrome/72.0.3626.109 Safari/537.36'}\n",
    "#resp = requests.get(\"https://www.fool.com/quote/oxy\", headers = header).text\n",
    "    resp = requests.get(site_url+\"/content\", headers = header)\n",
    "    resp = resp.text\n",
    "    article_list = BeautifulSoup(resp, 'html.parser', parse_only = only_articles)\n",
    "#print(article_list)\n",
    "    menu_article_dict = {}\n",
    "    for t,i in zip(article_list,range(10)):\n",
    "    #print(t)\n",
    "        article_dict = {}\n",
    "        for anchor in t.select('a.article-link'):\n",
    "            if anchor.has_attr('href'):\n",
    "                article_dict.update({'href':anchor['href']})#['href'] = anchor['href']\n",
    "                article_dict['text'] = anchor.contents[0]\n",
    "            #print(\"value: %s\" % anchor['href'])\n",
    "            #print(\"Text: %s\" % anchor.contents[0])\n",
    "        for anchor in t.select('p.article-promo'):\n",
    "            article_dict['promo'] = anchor.contents[0]\n",
    "        #print(\"promo: %s\" % anchor.contents[0])\n",
    "        menu_article_dict.update({'article'+str(i):article_dict})\n",
    "    #print(article_dict)\n",
    "    #print(\"^^^^^^^^^^^^^^^^^^^^^^^^^^^^\")\n",
    "    #print(menu_dict)\n",
    "    #print(len(menu_dict))\n",
    "   # print(\"************************\")\n",
    "\n",
    "#print(menu_article_dict)\n",
    "    if(len(menu_article_dict)>0):\n",
    "        menu_dict['articles'] = menu_article_dict\n",
    "\n",
    "    #return menu_dict"
   ]
  },
  {
   "cell_type": "code",
   "execution_count": 10,
   "metadata": {},
   "outputs": [],
   "source": [
    "def search_in_site(search_item):\n",
    "    print(search_item)\n",
    "    only_company_name = SoupStrainer('span',{'class':['company-name','company-ticker']})\n",
    "    header = {'User-Agent':'Mozilla/5.0 (Windows NT 10.0; Win64; x64) AppleWebKit/537.36 (KHTML, like Gecko) Chrome/72.0.3626.109 Safari/537.36'}\n",
    "    #resp = requests.get(\"https://www.fool.com/quote/oxy\", headers = header).text\n",
    "    resp = requests.get(\"https://www.fool.com/quote/\"+search_item, headers = header)\n",
    "    site_url = resp.url\n",
    "    resp = resp.text\n",
    "    #print(site_url)\n",
    "    #print(resp)\n",
    "    company_name_list = BeautifulSoup(resp, 'html.parser', parse_only = only_company_name)\n",
    "    #print(type(company_name_list))\n",
    "    company_details={}\n",
    "    for i in company_name_list:\n",
    "        company_details.update({i[\"class\"][0]: i.contents[0]})\n",
    "    \n",
    "    \n",
    "    menu_dict.update({'company_name':company_details})\n",
    "    \n",
    "    only_stock = SoupStrainer('h2',{'class':['current-price','price-change-amount price-pos','price-change-percent price-pos']})\n",
    "    stock_list = BeautifulSoup(resp, 'html.parser', parse_only = only_stock)\n",
    "   # print(stock_list)\n",
    "    stock_details = {}\n",
    "    for i in stock_list:\n",
    "        stock_details.update({i[\"class\"][0]: i.contents[0]})\n",
    "    print(stock_details)\n",
    "    menu_dict.update({'stock_details':stock_details})\n",
    "    print(menu_dict)\n",
    "    #menu_dict = \n",
    "    search_company_articles(site_url, menu_dict)\n",
    "    #return menu_dict"
   ]
  },
  {
   "cell_type": "code",
   "execution_count": 113,
   "metadata": {},
   "outputs": [
    {
     "name": "stdout",
     "output_type": "stream",
     "text": [
      "oxy\n",
      "{'current-price': '\\n        $67.19\\n    ', 'price-change-amount': '\\n        $0.62\\n    ', 'price-change-percent': ' \\n        (0.9%)\\n    '}\n",
      "{'articles': {'article0': {'href': 'https://www.fool.com/earnings/call-transcripts/2019/02/13/occidental-petroleum-corp-oxy-q4-2018-earnings-con.aspx', 'text': '  Occidental Petroleum Corp (OXY) Q4 2018 Earnings Conference Call Transcript\\n\\t            ', 'promo': 'OXY earnings call for the period ending December 31, 2018.'}, 'article1': {'href': 'https://www.fool.com/investing/2019/01/08/this-oil-stock-is-planning-to-prosper-in-2019-no-m.aspx', 'text': '  This Oil Stock Is Planning to Prosper in 2019 No Matter What Happens With Oil Prices\\n\\t            ', 'promo': 'After achieving its low-oil-price break-even plan, Occidental Petroleum has tremendous flexibilit...'}, 'article2': {'href': 'https://www.fool.com/investing/2019/01/06/my-no-1-oil-stock-for-2019.aspx', 'text': '  My No. 1 Oil Stock for 2019\\n\\t            ', 'promo': 'This oil company is poised to prosper in the new year.'}, 'article3': {'href': 'https://www.fool.com/investing/2018/12/28/5-top-energy-stocks-to-buy-in-2019.aspx', 'text': '  5 Top Energy Stocks to Buy in 2019\\n\\t            ', 'promo': \"Demand for fuel and electricity isn't going anywhere in the new year. Here are the top stock pick...\"}, 'article4': {'href': 'https://www.fool.com/investing/2018/12/27/5-top-oil-stocks-to-buy-in-2019.aspx', 'text': '  5 Top Oil Stocks to Buy in 2019\\n\\t            ', 'promo': 'Drilling down into the oil stocks best positioned to prosper in 2019.'}, 'article5': {'href': 'https://www.fool.com/investing/2018/11/15/3-top-oil-stocks-to-buy-in-november.aspx', 'text': '  3 Top Oil Stocks to Buy in November\\n\\t            ', 'promo': 'Oil prices have begun to fall, but these stocks still look ripe to outperform over the long haul.'}, 'article6': {'href': 'https://www.fool.com/earnings/call-transcripts/2018/11/06/occidental-petroleum-corporation-oxy-q3-2018-earni.aspx', 'text': '  Occidental Petroleum Corporation (OXY) Q3 2018 Earnings Conference Call Transcript\\n\\t            ', 'promo': 'OXY earnings call for the period ending  September 30, 2018.'}, 'article7': {'href': 'https://www.fool.com/investing/2018/11/05/why-occidental-petroleum-corporation-plummeted-nea.aspx', 'text': '  Why Occidental Petroleum Corporation Plummeted Nearly 20% in October\\n\\t            ', 'promo': 'A double dose of bad news weighed on the oil company last month.'}, 'article8': {'href': 'https://www.fool.com/investing/2018/10/15/why-occidental-petroleum-nutrisystem-and-carvana-s.aspx', 'text': '  Why Occidental Petroleum, Nutrisystem, and Carvana Slumped Today\\n\\t            ', 'promo': 'Find out which of these stocks suffered the worst news.'}, 'article9': {'href': 'https://www.fool.com/investing/2018/09/27/these-3-oil-companies-think-their-stocks-are-great.aspx', 'text': '  These 3 Oil Companies Think Their Stocks Are Great Buys Right Now\\n\\t            ', 'promo': 'More oil companies are using their oil-fueled cash flows to buy back their cheap stock.'}}, 'company_name': {'company-name': 'Occidental Petroleum', 'company-ticker': 'OXY'}, 'stock_details': {'current-price': '\\n        $67.19\\n    ', 'price-change-amount': '\\n        $0.62\\n    ', 'price-change-percent': ' \\n        (0.9%)\\n    '}}\n"
     ]
    }
   ],
   "source": [
    "search_in_site('oxy')"
   ]
  },
  {
   "cell_type": "code",
   "execution_count": 15,
   "metadata": {},
   "outputs": [
    {
     "name": "stdout",
     "output_type": "stream",
     "text": [
      " * Serving Flask app \"__main__\" (lazy loading)\n",
      " * Environment: production\n",
      "   WARNING: Do not use the development server in a production environment.\n",
      "   Use a production WSGI server instead.\n",
      " * Debug mode: off\n"
     ]
    },
    {
     "name": "stderr",
     "output_type": "stream",
     "text": [
      " * Running on http://127.0.0.1:5000/ (Press CTRL+C to quit)\n",
      "127.0.0.1 - - [18/Feb/2019 11:21:22] \"\u001b[37mGET / HTTP/1.1\u001b[0m\" 200 -\n",
      "127.0.0.1 - - [18/Feb/2019 11:21:22] \"\u001b[37mGET /static/js/home.js HTTP/1.1\u001b[0m\" 200 -\n"
     ]
    },
    {
     "name": "stdout",
     "output_type": "stream",
     "text": [
      "here\n",
      "oxy\n",
      "{'current-price': '\\n        $67.19\\n    ', 'price-change-amount': '\\n        $0.62\\n    ', 'price-change-percent': ' \\n        (0.9%)\\n    '}\n",
      "{'articles': {'article0': {'href': 'https://www.fool.com/earnings/call-transcripts/2019/02/13/occidental-petroleum-corp-oxy-q4-2018-earnings-con.aspx', 'text': '  Occidental Petroleum Corp (OXY) Q4 2018 Earnings Conference Call Transcript\\n\\t            ', 'promo': 'OXY earnings call for the period ending December 31, 2018.'}, 'article1': {'href': 'https://www.fool.com/investing/2019/01/08/this-oil-stock-is-planning-to-prosper-in-2019-no-m.aspx', 'text': '  This Oil Stock Is Planning to Prosper in 2019 No Matter What Happens With Oil Prices\\n\\t            ', 'promo': 'After achieving its low-oil-price break-even plan, Occidental Petroleum has tremendous flexibilit...'}, 'article2': {'href': 'https://www.fool.com/investing/2019/01/06/my-no-1-oil-stock-for-2019.aspx', 'text': '  My No. 1 Oil Stock for 2019\\n\\t            ', 'promo': 'This oil company is poised to prosper in the new year.'}, 'article3': {'href': 'https://www.fool.com/investing/2018/12/28/5-top-energy-stocks-to-buy-in-2019.aspx', 'text': '  5 Top Energy Stocks to Buy in 2019\\n\\t            ', 'promo': \"Demand for fuel and electricity isn't going anywhere in the new year. Here are the top stock pick...\"}, 'article4': {'href': 'https://www.fool.com/investing/2018/12/27/5-top-oil-stocks-to-buy-in-2019.aspx', 'text': '  5 Top Oil Stocks to Buy in 2019\\n\\t            ', 'promo': 'Drilling down into the oil stocks best positioned to prosper in 2019.'}, 'article5': {'href': 'https://www.fool.com/investing/2018/11/15/3-top-oil-stocks-to-buy-in-november.aspx', 'text': '  3 Top Oil Stocks to Buy in November\\n\\t            ', 'promo': 'Oil prices have begun to fall, but these stocks still look ripe to outperform over the long haul.'}, 'article6': {'href': 'https://www.fool.com/earnings/call-transcripts/2018/11/06/occidental-petroleum-corporation-oxy-q3-2018-earni.aspx', 'text': '  Occidental Petroleum Corporation (OXY) Q3 2018 Earnings Conference Call Transcript\\n\\t            ', 'promo': 'OXY earnings call for the period ending  September 30, 2018.'}, 'article7': {'href': 'https://www.fool.com/investing/2018/11/05/why-occidental-petroleum-corporation-plummeted-nea.aspx', 'text': '  Why Occidental Petroleum Corporation Plummeted Nearly 20% in October\\n\\t            ', 'promo': 'A double dose of bad news weighed on the oil company last month.'}, 'article8': {'href': 'https://www.fool.com/investing/2018/10/15/why-occidental-petroleum-nutrisystem-and-carvana-s.aspx', 'text': '  Why Occidental Petroleum, Nutrisystem, and Carvana Slumped Today\\n\\t            ', 'promo': 'Find out which of these stocks suffered the worst news.'}, 'article9': {'href': 'https://www.fool.com/investing/2018/09/27/these-3-oil-companies-think-their-stocks-are-great.aspx', 'text': '  These 3 Oil Companies Think Their Stocks Are Great Buys Right Now\\n\\t            ', 'promo': 'More oil companies are using their oil-fueled cash flows to buy back their cheap stock.'}}, 'company_name': {'company-name': 'Occidental Petroleum', 'company-ticker': 'OXY'}, 'stock_details': {'current-price': '\\n        $67.19\\n    ', 'price-change-amount': '\\n        $0.62\\n    ', 'price-change-percent': ' \\n        (0.9%)\\n    '}}\n",
      "<class 'str'>\n",
      "oxy\n",
      "{'current-price': '\\n        $67.19\\n    ', 'price-change-amount': '\\n        $0.62\\n    ', 'price-change-percent': ' \\n        (0.9%)\\n    '}\n",
      "{'articles': {'article0': {'href': 'https://www.fool.com/earnings/call-transcripts/2019/02/13/occidental-petroleum-corp-oxy-q4-2018-earnings-con.aspx', 'text': '  Occidental Petroleum Corp (OXY) Q4 2018 Earnings Conference Call Transcript\\n\\t            ', 'promo': 'OXY earnings call for the period ending December 31, 2018.'}, 'article1': {'href': 'https://www.fool.com/investing/2019/01/08/this-oil-stock-is-planning-to-prosper-in-2019-no-m.aspx', 'text': '  This Oil Stock Is Planning to Prosper in 2019 No Matter What Happens With Oil Prices\\n\\t            ', 'promo': 'After achieving its low-oil-price break-even plan, Occidental Petroleum has tremendous flexibilit...'}, 'article2': {'href': 'https://www.fool.com/investing/2019/01/06/my-no-1-oil-stock-for-2019.aspx', 'text': '  My No. 1 Oil Stock for 2019\\n\\t            ', 'promo': 'This oil company is poised to prosper in the new year.'}, 'article3': {'href': 'https://www.fool.com/investing/2018/12/28/5-top-energy-stocks-to-buy-in-2019.aspx', 'text': '  5 Top Energy Stocks to Buy in 2019\\n\\t            ', 'promo': \"Demand for fuel and electricity isn't going anywhere in the new year. Here are the top stock pick...\"}, 'article4': {'href': 'https://www.fool.com/investing/2018/12/27/5-top-oil-stocks-to-buy-in-2019.aspx', 'text': '  5 Top Oil Stocks to Buy in 2019\\n\\t            ', 'promo': 'Drilling down into the oil stocks best positioned to prosper in 2019.'}, 'article5': {'href': 'https://www.fool.com/investing/2018/11/15/3-top-oil-stocks-to-buy-in-november.aspx', 'text': '  3 Top Oil Stocks to Buy in November\\n\\t            ', 'promo': 'Oil prices have begun to fall, but these stocks still look ripe to outperform over the long haul.'}, 'article6': {'href': 'https://www.fool.com/earnings/call-transcripts/2018/11/06/occidental-petroleum-corporation-oxy-q3-2018-earni.aspx', 'text': '  Occidental Petroleum Corporation (OXY) Q3 2018 Earnings Conference Call Transcript\\n\\t            ', 'promo': 'OXY earnings call for the period ending  September 30, 2018.'}, 'article7': {'href': 'https://www.fool.com/investing/2018/11/05/why-occidental-petroleum-corporation-plummeted-nea.aspx', 'text': '  Why Occidental Petroleum Corporation Plummeted Nearly 20% in October\\n\\t            ', 'promo': 'A double dose of bad news weighed on the oil company last month.'}, 'article8': {'href': 'https://www.fool.com/investing/2018/10/15/why-occidental-petroleum-nutrisystem-and-carvana-s.aspx', 'text': '  Why Occidental Petroleum, Nutrisystem, and Carvana Slumped Today\\n\\t            ', 'promo': 'Find out which of these stocks suffered the worst news.'}, 'article9': {'href': 'https://www.fool.com/investing/2018/09/27/these-3-oil-companies-think-their-stocks-are-great.aspx', 'text': '  These 3 Oil Companies Think Their Stocks Are Great Buys Right Now\\n\\t            ', 'promo': 'More oil companies are using their oil-fueled cash flows to buy back their cheap stock.'}}, 'company_name': {'company-name': 'Occidental Petroleum', 'company-ticker': 'OXY'}, 'stock_details': {'current-price': '\\n        $67.19\\n    ', 'price-change-amount': '\\n        $0.62\\n    ', 'price-change-percent': ' \\n        (0.9%)\\n    '}}\n",
      "here\n",
      "oxy\n"
     ]
    },
    {
     "name": "stderr",
     "output_type": "stream",
     "text": [
      "127.0.0.1 - - [18/Feb/2019 11:21:42] \"\u001b[37mPOST /search_item_func HTTP/1.1\u001b[0m\" 200 -\n"
     ]
    },
    {
     "name": "stdout",
     "output_type": "stream",
     "text": [
      "{'current-price': '\\n        $67.19\\n    ', 'price-change-amount': '\\n        $0.62\\n    ', 'price-change-percent': ' \\n        (0.9%)\\n    '}\n",
      "{'articles': {'article0': {'href': 'https://www.fool.com/earnings/call-transcripts/2019/02/13/occidental-petroleum-corp-oxy-q4-2018-earnings-con.aspx', 'text': '  Occidental Petroleum Corp (OXY) Q4 2018 Earnings Conference Call Transcript\\n\\t            ', 'promo': 'OXY earnings call for the period ending December 31, 2018.'}, 'article1': {'href': 'https://www.fool.com/investing/2019/01/08/this-oil-stock-is-planning-to-prosper-in-2019-no-m.aspx', 'text': '  This Oil Stock Is Planning to Prosper in 2019 No Matter What Happens With Oil Prices\\n\\t            ', 'promo': 'After achieving its low-oil-price break-even plan, Occidental Petroleum has tremendous flexibilit...'}, 'article2': {'href': 'https://www.fool.com/investing/2019/01/06/my-no-1-oil-stock-for-2019.aspx', 'text': '  My No. 1 Oil Stock for 2019\\n\\t            ', 'promo': 'This oil company is poised to prosper in the new year.'}, 'article3': {'href': 'https://www.fool.com/investing/2018/12/28/5-top-energy-stocks-to-buy-in-2019.aspx', 'text': '  5 Top Energy Stocks to Buy in 2019\\n\\t            ', 'promo': \"Demand for fuel and electricity isn't going anywhere in the new year. Here are the top stock pick...\"}, 'article4': {'href': 'https://www.fool.com/investing/2018/12/27/5-top-oil-stocks-to-buy-in-2019.aspx', 'text': '  5 Top Oil Stocks to Buy in 2019\\n\\t            ', 'promo': 'Drilling down into the oil stocks best positioned to prosper in 2019.'}, 'article5': {'href': 'https://www.fool.com/investing/2018/11/15/3-top-oil-stocks-to-buy-in-november.aspx', 'text': '  3 Top Oil Stocks to Buy in November\\n\\t            ', 'promo': 'Oil prices have begun to fall, but these stocks still look ripe to outperform over the long haul.'}, 'article6': {'href': 'https://www.fool.com/earnings/call-transcripts/2018/11/06/occidental-petroleum-corporation-oxy-q3-2018-earni.aspx', 'text': '  Occidental Petroleum Corporation (OXY) Q3 2018 Earnings Conference Call Transcript\\n\\t            ', 'promo': 'OXY earnings call for the period ending  September 30, 2018.'}, 'article7': {'href': 'https://www.fool.com/investing/2018/11/05/why-occidental-petroleum-corporation-plummeted-nea.aspx', 'text': '  Why Occidental Petroleum Corporation Plummeted Nearly 20% in October\\n\\t            ', 'promo': 'A double dose of bad news weighed on the oil company last month.'}, 'article8': {'href': 'https://www.fool.com/investing/2018/10/15/why-occidental-petroleum-nutrisystem-and-carvana-s.aspx', 'text': '  Why Occidental Petroleum, Nutrisystem, and Carvana Slumped Today\\n\\t            ', 'promo': 'Find out which of these stocks suffered the worst news.'}, 'article9': {'href': 'https://www.fool.com/investing/2018/09/27/these-3-oil-companies-think-their-stocks-are-great.aspx', 'text': '  These 3 Oil Companies Think Their Stocks Are Great Buys Right Now\\n\\t            ', 'promo': 'More oil companies are using their oil-fueled cash flows to buy back their cheap stock.'}}, 'company_name': {'company-name': 'Occidental Petroleum', 'company-ticker': 'OXY'}, 'stock_details': {'current-price': '\\n        $67.19\\n    ', 'price-change-amount': '\\n        $0.62\\n    ', 'price-change-percent': ' \\n        (0.9%)\\n    '}}\n",
      "<class 'str'>\n",
      "oxy\n",
      "{'current-price': '\\n        $67.19\\n    ', 'price-change-amount': '\\n        $0.62\\n    ', 'price-change-percent': ' \\n        (0.9%)\\n    '}\n",
      "{'articles': {'article0': {'href': 'https://www.fool.com/earnings/call-transcripts/2019/02/13/occidental-petroleum-corp-oxy-q4-2018-earnings-con.aspx', 'text': '  Occidental Petroleum Corp (OXY) Q4 2018 Earnings Conference Call Transcript\\n\\t            ', 'promo': 'OXY earnings call for the period ending December 31, 2018.'}, 'article1': {'href': 'https://www.fool.com/investing/2019/01/08/this-oil-stock-is-planning-to-prosper-in-2019-no-m.aspx', 'text': '  This Oil Stock Is Planning to Prosper in 2019 No Matter What Happens With Oil Prices\\n\\t            ', 'promo': 'After achieving its low-oil-price break-even plan, Occidental Petroleum has tremendous flexibilit...'}, 'article2': {'href': 'https://www.fool.com/investing/2019/01/06/my-no-1-oil-stock-for-2019.aspx', 'text': '  My No. 1 Oil Stock for 2019\\n\\t            ', 'promo': 'This oil company is poised to prosper in the new year.'}, 'article3': {'href': 'https://www.fool.com/investing/2018/12/28/5-top-energy-stocks-to-buy-in-2019.aspx', 'text': '  5 Top Energy Stocks to Buy in 2019\\n\\t            ', 'promo': \"Demand for fuel and electricity isn't going anywhere in the new year. Here are the top stock pick...\"}, 'article4': {'href': 'https://www.fool.com/investing/2018/12/27/5-top-oil-stocks-to-buy-in-2019.aspx', 'text': '  5 Top Oil Stocks to Buy in 2019\\n\\t            ', 'promo': 'Drilling down into the oil stocks best positioned to prosper in 2019.'}, 'article5': {'href': 'https://www.fool.com/investing/2018/11/15/3-top-oil-stocks-to-buy-in-november.aspx', 'text': '  3 Top Oil Stocks to Buy in November\\n\\t            ', 'promo': 'Oil prices have begun to fall, but these stocks still look ripe to outperform over the long haul.'}, 'article6': {'href': 'https://www.fool.com/earnings/call-transcripts/2018/11/06/occidental-petroleum-corporation-oxy-q3-2018-earni.aspx', 'text': '  Occidental Petroleum Corporation (OXY) Q3 2018 Earnings Conference Call Transcript\\n\\t            ', 'promo': 'OXY earnings call for the period ending  September 30, 2018.'}, 'article7': {'href': 'https://www.fool.com/investing/2018/11/05/why-occidental-petroleum-corporation-plummeted-nea.aspx', 'text': '  Why Occidental Petroleum Corporation Plummeted Nearly 20% in October\\n\\t            ', 'promo': 'A double dose of bad news weighed on the oil company last month.'}, 'article8': {'href': 'https://www.fool.com/investing/2018/10/15/why-occidental-petroleum-nutrisystem-and-carvana-s.aspx', 'text': '  Why Occidental Petroleum, Nutrisystem, and Carvana Slumped Today\\n\\t            ', 'promo': 'Find out which of these stocks suffered the worst news.'}, 'article9': {'href': 'https://www.fool.com/investing/2018/09/27/these-3-oil-companies-think-their-stocks-are-great.aspx', 'text': '  These 3 Oil Companies Think Their Stocks Are Great Buys Right Now\\n\\t            ', 'promo': 'More oil companies are using their oil-fueled cash flows to buy back their cheap stock.'}}, 'company_name': {'company-name': 'Occidental Petroleum', 'company-ticker': 'OXY'}, 'stock_details': {'current-price': '\\n        $67.19\\n    ', 'price-change-amount': '\\n        $0.62\\n    ', 'price-change-percent': ' \\n        (0.9%)\\n    '}}\n"
     ]
    },
    {
     "name": "stderr",
     "output_type": "stream",
     "text": [
      "127.0.0.1 - - [18/Feb/2019 11:21:45] \"\u001b[37mPOST /search_item_func HTTP/1.1\u001b[0m\" 200 -\n",
      "127.0.0.1 - - [18/Feb/2019 11:21:56] \"\u001b[37mGET / HTTP/1.1\u001b[0m\" 200 -\n"
     ]
    },
    {
     "name": "stdout",
     "output_type": "stream",
     "text": [
      "here\n",
      "oxy\n",
      "{'current-price': '\\n        $67.19\\n    ', 'price-change-amount': '\\n        $0.62\\n    ', 'price-change-percent': ' \\n        (0.9%)\\n    '}\n",
      "{'articles': {'article0': {'href': 'https://www.fool.com/earnings/call-transcripts/2019/02/13/occidental-petroleum-corp-oxy-q4-2018-earnings-con.aspx', 'text': '  Occidental Petroleum Corp (OXY) Q4 2018 Earnings Conference Call Transcript\\n\\t            ', 'promo': 'OXY earnings call for the period ending December 31, 2018.'}, 'article1': {'href': 'https://www.fool.com/investing/2019/01/08/this-oil-stock-is-planning-to-prosper-in-2019-no-m.aspx', 'text': '  This Oil Stock Is Planning to Prosper in 2019 No Matter What Happens With Oil Prices\\n\\t            ', 'promo': 'After achieving its low-oil-price break-even plan, Occidental Petroleum has tremendous flexibilit...'}, 'article2': {'href': 'https://www.fool.com/investing/2019/01/06/my-no-1-oil-stock-for-2019.aspx', 'text': '  My No. 1 Oil Stock for 2019\\n\\t            ', 'promo': 'This oil company is poised to prosper in the new year.'}, 'article3': {'href': 'https://www.fool.com/investing/2018/12/28/5-top-energy-stocks-to-buy-in-2019.aspx', 'text': '  5 Top Energy Stocks to Buy in 2019\\n\\t            ', 'promo': \"Demand for fuel and electricity isn't going anywhere in the new year. Here are the top stock pick...\"}, 'article4': {'href': 'https://www.fool.com/investing/2018/12/27/5-top-oil-stocks-to-buy-in-2019.aspx', 'text': '  5 Top Oil Stocks to Buy in 2019\\n\\t            ', 'promo': 'Drilling down into the oil stocks best positioned to prosper in 2019.'}, 'article5': {'href': 'https://www.fool.com/investing/2018/11/15/3-top-oil-stocks-to-buy-in-november.aspx', 'text': '  3 Top Oil Stocks to Buy in November\\n\\t            ', 'promo': 'Oil prices have begun to fall, but these stocks still look ripe to outperform over the long haul.'}, 'article6': {'href': 'https://www.fool.com/earnings/call-transcripts/2018/11/06/occidental-petroleum-corporation-oxy-q3-2018-earni.aspx', 'text': '  Occidental Petroleum Corporation (OXY) Q3 2018 Earnings Conference Call Transcript\\n\\t            ', 'promo': 'OXY earnings call for the period ending  September 30, 2018.'}, 'article7': {'href': 'https://www.fool.com/investing/2018/11/05/why-occidental-petroleum-corporation-plummeted-nea.aspx', 'text': '  Why Occidental Petroleum Corporation Plummeted Nearly 20% in October\\n\\t            ', 'promo': 'A double dose of bad news weighed on the oil company last month.'}, 'article8': {'href': 'https://www.fool.com/investing/2018/10/15/why-occidental-petroleum-nutrisystem-and-carvana-s.aspx', 'text': '  Why Occidental Petroleum, Nutrisystem, and Carvana Slumped Today\\n\\t            ', 'promo': 'Find out which of these stocks suffered the worst news.'}, 'article9': {'href': 'https://www.fool.com/investing/2018/09/27/these-3-oil-companies-think-their-stocks-are-great.aspx', 'text': '  These 3 Oil Companies Think Their Stocks Are Great Buys Right Now\\n\\t            ', 'promo': 'More oil companies are using their oil-fueled cash flows to buy back their cheap stock.'}}, 'company_name': {'company-name': 'Occidental Petroleum', 'company-ticker': 'OXY'}, 'stock_details': {'current-price': '\\n        $67.19\\n    ', 'price-change-amount': '\\n        $0.62\\n    ', 'price-change-percent': ' \\n        (0.9%)\\n    '}}\n",
      "<class 'str'>\n",
      "oxy\n",
      "{'current-price': '\\n        $67.19\\n    ', 'price-change-amount': '\\n        $0.62\\n    ', 'price-change-percent': ' \\n        (0.9%)\\n    '}\n",
      "{'articles': {'article0': {'href': 'https://www.fool.com/earnings/call-transcripts/2019/02/13/occidental-petroleum-corp-oxy-q4-2018-earnings-con.aspx', 'text': '  Occidental Petroleum Corp (OXY) Q4 2018 Earnings Conference Call Transcript\\n\\t            ', 'promo': 'OXY earnings call for the period ending December 31, 2018.'}, 'article1': {'href': 'https://www.fool.com/investing/2019/01/08/this-oil-stock-is-planning-to-prosper-in-2019-no-m.aspx', 'text': '  This Oil Stock Is Planning to Prosper in 2019 No Matter What Happens With Oil Prices\\n\\t            ', 'promo': 'After achieving its low-oil-price break-even plan, Occidental Petroleum has tremendous flexibilit...'}, 'article2': {'href': 'https://www.fool.com/investing/2019/01/06/my-no-1-oil-stock-for-2019.aspx', 'text': '  My No. 1 Oil Stock for 2019\\n\\t            ', 'promo': 'This oil company is poised to prosper in the new year.'}, 'article3': {'href': 'https://www.fool.com/investing/2018/12/28/5-top-energy-stocks-to-buy-in-2019.aspx', 'text': '  5 Top Energy Stocks to Buy in 2019\\n\\t            ', 'promo': \"Demand for fuel and electricity isn't going anywhere in the new year. Here are the top stock pick...\"}, 'article4': {'href': 'https://www.fool.com/investing/2018/12/27/5-top-oil-stocks-to-buy-in-2019.aspx', 'text': '  5 Top Oil Stocks to Buy in 2019\\n\\t            ', 'promo': 'Drilling down into the oil stocks best positioned to prosper in 2019.'}, 'article5': {'href': 'https://www.fool.com/investing/2018/11/15/3-top-oil-stocks-to-buy-in-november.aspx', 'text': '  3 Top Oil Stocks to Buy in November\\n\\t            ', 'promo': 'Oil prices have begun to fall, but these stocks still look ripe to outperform over the long haul.'}, 'article6': {'href': 'https://www.fool.com/earnings/call-transcripts/2018/11/06/occidental-petroleum-corporation-oxy-q3-2018-earni.aspx', 'text': '  Occidental Petroleum Corporation (OXY) Q3 2018 Earnings Conference Call Transcript\\n\\t            ', 'promo': 'OXY earnings call for the period ending  September 30, 2018.'}, 'article7': {'href': 'https://www.fool.com/investing/2018/11/05/why-occidental-petroleum-corporation-plummeted-nea.aspx', 'text': '  Why Occidental Petroleum Corporation Plummeted Nearly 20% in October\\n\\t            ', 'promo': 'A double dose of bad news weighed on the oil company last month.'}, 'article8': {'href': 'https://www.fool.com/investing/2018/10/15/why-occidental-petroleum-nutrisystem-and-carvana-s.aspx', 'text': '  Why Occidental Petroleum, Nutrisystem, and Carvana Slumped Today\\n\\t            ', 'promo': 'Find out which of these stocks suffered the worst news.'}, 'article9': {'href': 'https://www.fool.com/investing/2018/09/27/these-3-oil-companies-think-their-stocks-are-great.aspx', 'text': '  These 3 Oil Companies Think Their Stocks Are Great Buys Right Now\\n\\t            ', 'promo': 'More oil companies are using their oil-fueled cash flows to buy back their cheap stock.'}}, 'company_name': {'company-name': 'Occidental Petroleum', 'company-ticker': 'OXY'}, 'stock_details': {'current-price': '\\n        $67.19\\n    ', 'price-change-amount': '\\n        $0.62\\n    ', 'price-change-percent': ' \\n        (0.9%)\\n    '}}\n"
     ]
    },
    {
     "name": "stderr",
     "output_type": "stream",
     "text": [
      "127.0.0.1 - - [18/Feb/2019 11:22:17] \"\u001b[37mPOST /search_item_func HTTP/1.1\u001b[0m\" 200 -\n"
     ]
    }
   ],
   "source": [
    "\n",
    "app = Flask(__name__)\n",
    "\n",
    "\n",
    "@app.route('/')\n",
    "def index():\n",
    "    return render_template('home.html')\n",
    "\n",
    "@app.route('/search_item_func',methods = ['POST','GET','DELETE'])\n",
    "#@flask_sijax.route(app, '/search_item_func')\n",
    "def search_item_func():\n",
    "    print(\"here\")\n",
    "    #search_item = request.form['search_item']\n",
    "    search_in_site(request.form['search_item'])\n",
    "    #print(menu_dict)\n",
    "    print(type(json.dumps(menu_dict)))\n",
    "    return json.dumps(menu_dict)\n",
    "\n",
    "if __name__ == '__main__':\n",
    "   app.run()"
   ]
  },
  {
   "cell_type": "code",
   "execution_count": null,
   "metadata": {},
   "outputs": [],
   "source": []
  }
 ],
 "metadata": {
  "kernelspec": {
   "display_name": "Python 3",
   "language": "python",
   "name": "python3"
  },
  "language_info": {
   "codemirror_mode": {
    "name": "ipython",
    "version": 3
   },
   "file_extension": ".py",
   "mimetype": "text/x-python",
   "name": "python",
   "nbconvert_exporter": "python",
   "pygments_lexer": "ipython3",
   "version": "3.6.8"
  }
 },
 "nbformat": 4,
 "nbformat_minor": 2
}
